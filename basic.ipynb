{
 "cells": [
  {
   "cell_type": "code",
   "execution_count": null,
   "metadata": {},
   "outputs": [],
   "source": [
    "# list and slice\n",
    "import numpy as np\n",
    "\n",
    "a = [1, 2, 3, 4, 5]\n",
    "print(a[:-1])       # [1, 2, 3, 4]\n",
    "print(a[:5:2])      # [1, 3, 5]\n",
    "print(a[::-1])      # [5, 4, 3, 2, 1]\n",
    "print(a[3::-1])     # [4, 3, 2, 1]\n",
    "print(a[3:0:-1])    # [4, 3, 2]\n",
    "\n",
    "a = np.array(a)\n",
    "print(a[...])\n",
    "\n",
    "print(i for i in range(5))\n",
    "print([i for i in range(5)])"
   ]
  },
  {
   "cell_type": "code",
   "execution_count": null,
   "metadata": {},
   "outputs": [],
   "source": [
    "# zip\n",
    "data = [(1, 'a'), (2, 'b'), (3, 'c')]\n",
    "print(*data)\n",
    "\n",
    "l1, l2 = zip(*data)\n",
    "print(l1)   # (1, 2, 3)\n",
    "print(l2)   # ('a', 'b', 'c')\n",
    "\n",
    "for x, y in zip(l1, l2):\n",
    "    print(x, y)"
   ]
  },
  {
   "cell_type": "code",
   "execution_count": null,
   "metadata": {},
   "outputs": [],
   "source": [
    "# tqdm\n",
    "from tqdm import tqdm\n",
    "import time\n",
    "\n",
    "for i in tqdm(range(10)):\n",
    "    time.sleep(0.5)\n",
    "    pass"
   ]
  },
  {
   "cell_type": "code",
   "execution_count": null,
   "metadata": {},
   "outputs": [],
   "source": [
    "# time\n",
    "import time\n",
    "from datetime import timedelta\n",
    "\n",
    "start = time.time()\n",
    "time.sleep(2)\n",
    "elapse = timedelta(seconds=int(time.time() - start))\n",
    "print(elapse)\n",
    "\n",
    "print(time.strftime(\"%Y-%m-%d-%H:%M:%S\", time.localtime()))"
   ]
  },
  {
   "cell_type": "code",
   "execution_count": null,
   "metadata": {},
   "outputs": [],
   "source": [
    "import re\n",
    "\n",
    "# greedy match\n",
    "str = '<img src=\"http://www.image.com/666.jpg\" alt=\"alt\" title=\"title\">'\n",
    "match = re.search(r'img src=\"(.*)\"', str)\n",
    "print(match.group(0))\n",
    "\n",
    "\n",
    "# lazy match\n",
    "str = '<img src=\"http://www.image.com/666.jpg\" alt=\"alt\" title=\"title\">'\n",
    "match = re.search(r'img src=\"(.*?)\"', str)\n",
    "print(match.group(0))\n"
   ]
  },
  {
   "cell_type": "code",
   "execution_count": null,
   "metadata": {},
   "outputs": [],
   "source": [
    "import collections\n",
    "\n",
    "# Counter\n",
    "counter = collections.Counter()\n",
    "counter.update([\"test\", \"test\", 'me'])\n",
    "print(counter.items())\n",
    "\n",
    "# OrderedDict\n",
    "map = collections.OrderedDict()\n",
    "map['id'] = 100\n",
    "map['name'] = 'Tom'\n",
    "map['birth'] = '1999'\n",
    "map['address'] = 'xxxx'\n",
    "\n",
    "for k, v in map.items():\n",
    "    print(k, v)\n"
   ]
  },
  {
   "cell_type": "code",
   "execution_count": null,
   "metadata": {},
   "outputs": [],
   "source": [
    "import threading\n",
    "import time\n",
    "from concurrent.futures import ThreadPoolExecutor\n",
    "\n",
    "# thread mutex\n",
    "class Task(threading.Thread):\n",
    "    def __init__(self, name, lock) -> None:\n",
    "        super().__init__()\n",
    "        self.name = name\n",
    "        self.lock = lock\n",
    "\n",
    "    def run(self) -> None:\n",
    "        self.lock.acquire()\n",
    "        for i in range(5):\n",
    "            print(\"{}: {}\".format(self.name, i))\n",
    "            time.sleep(0.5)\n",
    "        self.lock.release()\n",
    "\n",
    "lock = threading.Lock()\n",
    "thread1 = Task(\"A\", lock)\n",
    "thread2 = Task(\"B\", lock)\n",
    "thread1.start()\n",
    "thread2.start()"
   ]
  },
  {
   "cell_type": "code",
   "execution_count": null,
   "metadata": {},
   "outputs": [],
   "source": [
    "import pandas as pd\n",
    "import numpy as np\n",
    "\n",
    "# DataFrame Series\n",
    "df = pd.DataFrame([[1, 2, 3], [4, 5, 6]], columns=['a', 'b', 'c'])\n",
    "print(df.iloc[1, :])\n",
    "print(df.loc[:, ['a', 'b']])\n",
    "\n",
    "print(type(df.iloc[1, :]))          # Series\n",
    "print(type(df.loc[:, ['a', 'b']]))  # DataFrame\n",
    "\n",
    "# read_json\n",
    "df = pd.read_json('./res/site.json')\n",
    "print(df)\n",
    "\n",
    "# read_csv\n",
    "df = pd.read_csv(\"./res/report.csv\", delimiter=\";\")\n",
    "df = df.loc[:, ['reportTitle','reporter', 'reportTime', 'reportLocation']]\n",
    "\n",
    "with open('report.sql', mode='w', encoding=\"utf-8\") as f:\n",
    "    for i in range(20):\n",
    "        report = df.iloc[i].values\n",
    "        sql = \"insert into report(title, speaker, time, location) values('{}', '{}', '{}', '{}');\\n\"\\\n",
    "            .format(report[0], report[1], report[2], report[3])\n",
    "        f.write(sql)"
   ]
  }
 ],
 "metadata": {
  "interpreter": {
   "hash": "a8f61be024eba58adef938c9aa1e29e02cb3dece83a5348b1a2dafd16a070453"
  },
  "kernelspec": {
   "display_name": "Python 3.7.3 ('base')",
   "language": "python",
   "name": "python3"
  },
  "language_info": {
   "codemirror_mode": {
    "name": "ipython",
    "version": 3
   },
   "file_extension": ".py",
   "mimetype": "text/x-python",
   "name": "python",
   "nbconvert_exporter": "python",
   "pygments_lexer": "ipython3",
   "version": "3.7.3"
  },
  "orig_nbformat": 4
 },
 "nbformat": 4,
 "nbformat_minor": 2
}
